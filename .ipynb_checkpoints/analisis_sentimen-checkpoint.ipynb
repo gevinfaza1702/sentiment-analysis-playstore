{
 "cells": [
  {
   "cell_type": "code",
   "execution_count": 23,
   "id": "53ee4ea5-6d3c-4d79-a191-d05ccbda45fd",
   "metadata": {},
   "outputs": [
    {
     "name": "stdout",
     "output_type": "stream",
     "text": [
      "Berhasil mengambil 3000 ulasan dan menyimpannya ke 'ulasan_google_play.csv'.\n"
     ]
    }
   ],
   "source": [
    "from google_play_scraper import reviews, Sort\n",
    "import pandas as pd\n",
    "\n",
    "# Tentukan aplikasi yang ingin di-scrape\n",
    "app_package_name = 'com.gojek.app'  # Ganti dengan package name aplikasi lain jika perlu\n",
    "count = 3000  # Jumlah ulasan yang ingin diambil\n",
    "\n",
    "# Scraping data dari Google Play Store\n",
    "result, _ = reviews(\n",
    "    app_package_name,\n",
    "    lang='id',  # Bahasa ulasan\n",
    "    country='id',  # Negara\n",
    "    sort=Sort.NEWEST,  # Urutkan berdasarkan ulasan terbaru\n",
    "    count=count  # Jumlah ulasan\n",
    ")\n",
    "\n",
    "# Konversi hasil ke DataFrame\n",
    "df = pd.DataFrame(result)\n",
    "\n",
    "# Simpan hasil scraping ke dalam CSV\n",
    "df.to_csv('ulasan_google_play.csv', index=False)\n",
    "\n",
    "print(f\"Berhasil mengambil {len(df)} ulasan dan menyimpannya ke 'ulasan_google_play.csv'.\")\n"
   ]
  },
  {
   "cell_type": "code",
   "execution_count": 24,
   "id": "90e5bc03-02e3-4f75-bf39-73b7b47fb6ef",
   "metadata": {},
   "outputs": [
    {
     "name": "stdout",
     "output_type": "stream",
     "text": [
      "Preprocessing selesai! 2356 ulasan telah dibersihkan.\n"
     ]
    }
   ],
   "source": [
    "import re\n",
    "\n",
    "# Load dataset hasil scraping\n",
    "df = pd.read_csv('ulasan_google_play.csv')\n",
    "\n",
    "# Menghapus data duplikat\n",
    "df.drop_duplicates(subset='content', inplace=True)\n",
    "\n",
    "# Menghapus ulasan kosong\n",
    "df = df[df['content'].str.strip().astype(bool)]\n",
    "\n",
    "# Membersihkan teks ulasan\n",
    "def clean_text(text):\n",
    "    text = re.sub(r'[^a-zA-Z\\s]', '', text)  # Hanya menyisakan huruf dan spasi\n",
    "    text = text.lower().strip()  # Mengubah teks menjadi huruf kecil dan menghapus spasi berlebih\n",
    "    return text\n",
    "\n",
    "df['cleaned_content'] = df['content'].apply(clean_text)\n",
    "\n",
    "# Simpan hasil preprocessing\n",
    "df.to_csv('cleaned_ulasan_google_play.csv', index=False)\n",
    "\n",
    "print(f\"Preprocessing selesai! {len(df)} ulasan telah dibersihkan.\")\n"
   ]
  },
  {
   "cell_type": "code",
   "execution_count": 25,
   "id": "d44e6a80-e935-47cb-b6e0-8ff384757aba",
   "metadata": {},
   "outputs": [
    {
     "name": "stdout",
     "output_type": "stream",
     "text": [
      "Pelabelan selesai! Data siap untuk analisis sentimen.\n"
     ]
    }
   ],
   "source": [
    "# Menentukan label sentimen berdasarkan skor ulasan\n",
    "def label_sentiment(score):\n",
    "    if score >= 4:\n",
    "        return 'positif'\n",
    "    elif score == 3:\n",
    "        return 'netral'\n",
    "    else:\n",
    "        return 'negatif'\n",
    "\n",
    "df['sentiment'] = df['score'].apply(label_sentiment)\n",
    "\n",
    "# Simpan hasil dengan label sentimen\n",
    "df.to_csv('labeled_ulasan_google_play.csv', index=False)\n",
    "\n",
    "print(\"Pelabelan selesai! Data siap untuk analisis sentimen.\")\n"
   ]
  },
  {
   "cell_type": "code",
   "execution_count": 26,
   "id": "dfbc8883-072a-422b-889c-c66ff0ac1940",
   "metadata": {},
   "outputs": [
    {
     "name": "stdout",
     "output_type": "stream",
     "text": [
      "Ekstraksi fitur dengan TF-IDF selesai!\n"
     ]
    }
   ],
   "source": [
    "from sklearn.feature_extraction.text import TfidfVectorizer\n",
    "\n",
    "# Ekstraksi fitur menggunakan TF-IDF\n",
    "tfidf = TfidfVectorizer(max_features=5000)\n",
    "X_tfidf = tfidf.fit_transform(df['cleaned_content'])\n",
    "y = df['sentiment']\n",
    "\n",
    "# Simpan model TF-IDF agar bisa digunakan nanti\n",
    "import pickle\n",
    "with open(\"tfidf_vectorizer.pkl\", \"wb\") as f:\n",
    "    pickle.dump(tfidf, f)\n",
    "\n",
    "print(\"Ekstraksi fitur dengan TF-IDF selesai!\")\n"
   ]
  },
  {
   "cell_type": "code",
   "execution_count": 27,
   "id": "7eae7487-cece-4744-9928-57f37b73cda8",
   "metadata": {},
   "outputs": [
    {
     "name": "stdout",
     "output_type": "stream",
     "text": [
      "Model SVM telah dilatih!\n"
     ]
    }
   ],
   "source": [
    "from sklearn.svm import LinearSVC\n",
    "from sklearn.model_selection import train_test_split\n",
    "\n",
    "# Membagi data menjadi train dan test\n",
    "X_train, X_test, y_train, y_test = train_test_split(X_tfidf, y, test_size=0.2, random_state=42)\n",
    "\n",
    "# Melatih model SVM\n",
    "svm_model = LinearSVC()\n",
    "svm_model.fit(X_train, y_train)\n",
    "\n",
    "print(\"Model SVM telah dilatih!\")\n"
   ]
  },
  {
   "cell_type": "code",
   "execution_count": 28,
   "id": "681528e0-9aa6-46ef-9b97-d88675062f78",
   "metadata": {},
   "outputs": [
    {
     "name": "stdout",
     "output_type": "stream",
     "text": [
      "Akurasi Model SVM: 87.92%\n",
      "              precision    recall  f1-score   support\n",
      "\n",
      "     negatif       0.85      0.86      0.86       176\n",
      "      netral       0.50      0.11      0.17        19\n",
      "     positif       0.90      0.94      0.92       277\n",
      "\n",
      "    accuracy                           0.88       472\n",
      "   macro avg       0.75      0.64      0.65       472\n",
      "weighted avg       0.87      0.88      0.87       472\n",
      "\n"
     ]
    }
   ],
   "source": [
    "from sklearn.metrics import accuracy_score, classification_report\n",
    "\n",
    "# Evaluasi model SVM\n",
    "y_pred_svm = svm_model.predict(X_test)\n",
    "accuracy_svm = accuracy_score(y_test, y_pred_svm)\n",
    "report_svm = classification_report(y_test, y_pred_svm)\n",
    "\n",
    "print(f\"Akurasi Model SVM: {accuracy_svm:.2%}\")\n",
    "print(report_svm)\n"
   ]
  },
  {
   "cell_type": "code",
   "execution_count": 29,
   "id": "718f9caa-ff21-43cc-84c2-c6774e6249a3",
   "metadata": {},
   "outputs": [
    {
     "name": "stdout",
     "output_type": "stream",
     "text": [
      "Prediksi Sentimen: positif\n"
     ]
    }
   ],
   "source": [
    "# Contoh ulasan baru\n",
    "new_review = [\"Aplikasi ini sangat lambat dan sering crash.\"]\n",
    "\n",
    "# Ubah teks ke dalam format TF-IDF\n",
    "new_review_tfidf = tfidf.transform(new_review)\n",
    "\n",
    "# Prediksi sentimen\n",
    "predicted_sentiment = svm_model.predict(new_review_tfidf)\n",
    "\n",
    "print(f\"Prediksi Sentimen: {predicted_sentiment[0]}\")\n"
   ]
  }
 ],
 "metadata": {
  "kernelspec": {
   "display_name": "Python 3 (ipykernel)",
   "language": "python",
   "name": "python3"
  },
  "language_info": {
   "codemirror_mode": {
    "name": "ipython",
    "version": 3
   },
   "file_extension": ".py",
   "mimetype": "text/x-python",
   "name": "python",
   "nbconvert_exporter": "python",
   "pygments_lexer": "ipython3",
   "version": "3.10.10"
  }
 },
 "nbformat": 4,
 "nbformat_minor": 5
}
