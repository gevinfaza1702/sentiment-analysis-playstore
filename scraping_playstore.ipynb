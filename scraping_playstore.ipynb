{
 "cells": [
  {
   "cell_type": "code",
   "execution_count": 1,
   "id": "a56f1e42-206d-4500-9316-5360c1ae3b67",
   "metadata": {},
   "outputs": [
    {
     "name": "stdout",
     "output_type": "stream",
     "text": [
      "Berhasil mengambil 3000 ulasan dan menyimpannya ke 'ulasan_google_play.csv'.\n"
     ]
    }
   ],
   "source": [
    "from google_play_scraper import reviews, Sort\n",
    "import pandas as pd\n",
    "\n",
    "# Nama paket aplikasi yang akan di-scrape (ganti sesuai kebutuhan)\n",
    "app_package_name = 'com.gojek.app'\n",
    "count = 3000  # Jumlah ulasan yang diambil\n",
    "\n",
    "# Scraping data dari Google Play Store\n",
    "result, _ = reviews(\n",
    "    app_package_name,\n",
    "    lang='id',  # Bahasa Indonesia\n",
    "    country='id',  # Negara Indonesia\n",
    "    sort=Sort.NEWEST,  # Ambil ulasan terbaru\n",
    "    count=count  # Jumlah ulasan\n",
    ")\n",
    "\n",
    "# Konversi ke DataFrame\n",
    "df = pd.DataFrame(result)\n",
    "\n",
    "# Simpan hasil scraping\n",
    "df.to_csv('ulasan_google_play.csv', index=False)\n",
    "print(f\"Berhasil mengambil {len(df)} ulasan dan menyimpannya ke 'ulasan_google_play.csv'.\")\n"
   ]
  },
  {
   "cell_type": "code",
   "execution_count": null,
   "id": "ae3724be-8679-4ae2-8a57-cd42429f33b1",
   "metadata": {},
   "outputs": [],
   "source": []
  }
 ],
 "metadata": {
  "kernelspec": {
   "display_name": "Python 3 (ipykernel)",
   "language": "python",
   "name": "python3"
  },
  "language_info": {
   "codemirror_mode": {
    "name": "ipython",
    "version": 3
   },
   "file_extension": ".py",
   "mimetype": "text/x-python",
   "name": "python",
   "nbconvert_exporter": "python",
   "pygments_lexer": "ipython3",
   "version": "3.10.10"
  }
 },
 "nbformat": 4,
 "nbformat_minor": 5
}
